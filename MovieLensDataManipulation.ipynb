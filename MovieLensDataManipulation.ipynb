{
 "cells": [
  {
   "cell_type": "code",
   "execution_count": 114,
   "metadata": {
    "collapsed": false
   },
   "outputs": [],
   "source": [
    "#reading in csv files of data\n",
    "import pandas as pd\n",
    "userRating = pd.read_csv(\"MovieRatings.csv\", header = None)\n",
    "movieInfo = pd.read_csv(\"MoviesInformation.csv\", encoding='cp1252', header = None)"
   ]
  },
  {
   "cell_type": "code",
   "execution_count": 115,
   "metadata": {
    "collapsed": false
   },
   "outputs": [
    {
     "name": "stderr",
     "output_type": "stream",
     "text": [
      "C:\\Users\\Megan Robertson\\Anaconda3\\lib\\site-packages\\ipykernel\\__main__.py:2: FutureWarning: sort(columns=....) is deprecated, use sort_values(by=.....)\n",
      "  from ipykernel import kernelapp as app\n"
     ]
    }
   ],
   "source": [
    "#sorting the movieInfo to identify where there are NAs\n",
    "sortedmovieInfo = movieInfo.sort([3, 4], ascending=[1, 1])\n",
    "PA = pd.DataFrame(result.iloc[0,]).T\n",
    "troubleCases = result.iloc[1:197,]\n",
    "Correct = result.iloc[197:3883,]"
   ]
  },
  {
   "cell_type": "code",
   "execution_count": 116,
   "metadata": {
    "collapsed": false,
    "scrolled": true
   },
   "outputs": [
    {
     "name": "stderr",
     "output_type": "stream",
     "text": [
      "C:\\Users\\Megan Robertson\\Anaconda3\\lib\\site-packages\\ipykernel\\__main__.py:7: SettingWithCopyWarning: \n",
      "A value is trying to be set on a copy of a slice from a DataFrame.\n",
      "Try using .loc[row_indexer,col_indexer] = value instead\n",
      "\n",
      "See the caveats in the documentation: http://pandas.pydata.org/pandas-docs/stable/indexing.html#indexing-view-versus-copy\n",
      "C:\\Users\\Megan Robertson\\Anaconda3\\lib\\site-packages\\ipykernel\\__main__.py:8: SettingWithCopyWarning: \n",
      "A value is trying to be set on a copy of a slice from a DataFrame.\n",
      "Try using .loc[row_indexer,col_indexer] = value instead\n",
      "\n",
      "See the caveats in the documentation: http://pandas.pydata.org/pandas-docs/stable/indexing.html#indexing-view-versus-copy\n"
     ]
    }
   ],
   "source": [
    "#fixing the Police Academy entry\n",
    "PA[1] = PA[1].str.cat(PA[2].values.astype(str), sep=': ')\n",
    "PA[1] = PA[1].str.cat(PA[3].values.astype(str), sep=': ')\n",
    "PA[2] = PA[4]\n",
    "\n",
    "#fixing the other trouble cases\n",
    "troubleCases[1] = troubleCases[1].str.cat(troubleCases[2].values.astype(str), sep=': ')\n",
    "troubleCases[2] = troubleCases[3]"
   ]
  },
  {
   "cell_type": "code",
   "execution_count": 117,
   "metadata": {
    "collapsed": false
   },
   "outputs": [],
   "source": [
    "#combining everything\n",
    "stepOne = PA.append(troubleCases)\n",
    "movieData = stepOne.append(Correct)"
   ]
  },
  {
   "cell_type": "code",
   "execution_count": 118,
   "metadata": {
    "collapsed": false
   },
   "outputs": [],
   "source": [
    "movieData = movieData.iloc[:, 0:3]\n",
    "movieData.columns = [\"movieID\", \"Name\", \"Genre\"]"
   ]
  },
  {
   "cell_type": "code",
   "execution_count": 119,
   "metadata": {
    "collapsed": false
   },
   "outputs": [],
   "source": [
    "#writing the cleaned data to csv file\n",
    "movieData.to_csv(\"C:\\\\Users\\\\Megan Robertson\\\\Documents\\\\Spring2016\\\\STA663\\\\663FinalProject\\\\MovieReferenceTable.csv\")"
   ]
  },
  {
   "cell_type": "code",
   "execution_count": 120,
   "metadata": {
    "collapsed": false
   },
   "outputs": [],
   "source": [
    "#getting rid of the columns with only missing values\n",
    "userRating.drop(userRating.columns[[1,3,5]], axis=1, inplace=True)\n",
    "userRating.columns = [\"userID\", \"movieID\", \"rating\", \"time\"]"
   ]
  },
  {
   "cell_type": "code",
   "execution_count": 121,
   "metadata": {
    "collapsed": true
   },
   "outputs": [],
   "source": [
    "userRating.to_csv(\"C:\\\\Users\\\\Megan Robertson\\\\Documents\\\\Spring2016\\\\STA663\\\\663FinalProject\\\\RatingsData.csv\")"
   ]
  },
  {
   "cell_type": "code",
   "execution_count": null,
   "metadata": {
    "collapsed": true
   },
   "outputs": [],
   "source": []
  }
 ],
 "metadata": {
  "kernelspec": {
   "display_name": "Python 3",
   "language": "python",
   "name": "python3"
  },
  "language_info": {
   "codemirror_mode": {
    "name": "ipython",
    "version": 3
   },
   "file_extension": ".py",
   "mimetype": "text/x-python",
   "name": "python",
   "nbconvert_exporter": "python",
   "pygments_lexer": "ipython3",
   "version": "3.5.1"
  }
 },
 "nbformat": 4,
 "nbformat_minor": 0
}
