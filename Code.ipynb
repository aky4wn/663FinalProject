{
 "cells": [
  {
   "cell_type": "code",
   "execution_count": 1,
   "metadata": {
    "collapsed": false
   },
   "outputs": [
    {
     "name": "stdout",
     "output_type": "stream",
     "text": [
      "Requirement already satisfied (use --upgrade to upgrade): stop-words in c:\\users\\megan robertson\\anaconda3\\lib\\site-packages\n"
     ]
    },
    {
     "name": "stderr",
     "output_type": "stream",
     "text": [
      "You are using pip version 8.0.3, however version 8.1.1 is available.\n",
      "You should consider upgrading via the 'python -m pip install --upgrade pip' command.\n"
     ]
    }
   ],
   "source": [
    "! pip install stop_words"
   ]
  },
  {
   "cell_type": "code",
   "execution_count": 1,
   "metadata": {
    "collapsed": false
   },
   "outputs": [
    {
     "name": "stdout",
     "output_type": "stream",
     "text": [
      "s1 The quick brown fox\n",
      "s2 Brown fox jumps over the jumps jumps jumps\n",
      "s3 The the the lazy dog elephant.\n",
      "s4 The the the the the dog peacock lion tiger elephant\n"
     ]
    }
   ],
   "source": [
    "import collections\n",
    "\n",
    "s1 = \"The quick brown fox\"\n",
    "s2 = \"Brown fox jumps over the jumps jumps jumps\"\n",
    "s3 = \"The the the lazy dog elephant.\"\n",
    "s4 = \"The the the the the dog peacock lion tiger elephant\"\n",
    "\n",
    "docs = collections.OrderedDict()\n",
    "docs[\"s1\"] = s1\n",
    "docs[\"s2\"] = s2\n",
    "docs[\"s3\"] = s3\n",
    "docs[\"s4\"] = s4\n",
    "for k, v in docs.items():\n",
    "    print(k,v)\n",
    "    "
   ]
  },
  {
   "cell_type": "code",
   "execution_count": 2,
   "metadata": {
    "collapsed": false
   },
   "outputs": [
    {
     "data": {
      "text/plain": [
       "4"
      ]
     },
     "execution_count": 2,
     "metadata": {},
     "output_type": "execute_result"
    }
   ],
   "source": [
    "len(docs)"
   ]
  },
  {
   "cell_type": "markdown",
   "metadata": {},
   "source": [
    "**Function to make Corpus Matrix**\n",
    "\n",
    "Function returns a list, 0th element is a 3 dimensional array, each element corresponds to a document in the corpus where the columns are the unique words in that document and the rows are the words in that document (stop words removed).  Second element in list is the column names for each document."
   ]
  },
  {
   "cell_type": "code",
   "execution_count": 3,
   "metadata": {
    "collapsed": false
   },
   "outputs": [],
   "source": [
    "import string\n",
    "import stop_words\n",
    "import numpy as np\n",
    "from stop_words import get_stop_words\n",
    "\n",
    "stopWords = get_stop_words('english')\n",
    "\n",
    "#Function to make document, word matricies for LDA#\n",
    "def make_word_matrix(corpus):\n",
    "    D = len(corpus)\n",
    "    #Define list to store corpus data#\n",
    "    c = []\n",
    "    #Define list to store order of words for each document#\n",
    "    wordOrder = []\n",
    "    #Define table to remove punctuation\n",
    "    table = dict.fromkeys(map(ord, string.punctuation))\n",
    "   \n",
    "    #For each document in docs, caculate frequency of the words#\n",
    "    for i in corpus:\n",
    "        #Remove punctuation \n",
    "        text = docs[i].translate(table)\n",
    "        #Splits string by blankspace and goes to lower case#\n",
    "        words = text.lower().split()\n",
    "    \n",
    "        #Remove stop words#\n",
    "        text = [word for word in words if word not in stopWords]\n",
    "        \n",
    "        #Find total number of words in each document#\n",
    "        N = len(text)\n",
    "        \n",
    "        #Find number of unique words in each document#\n",
    "        V = len(set(text))\n",
    "        Vwords = list(set(text))\n",
    "        wordOrder.append(Vwords)\n",
    "        #Create matrix to store words for each document#\n",
    "        wordsMat = np.zeros((N, V))\n",
    "        count = 0\n",
    "        for word in text:\n",
    "            v = Vwords.index(word)\n",
    "            wordsMat[count, v] = 1\n",
    "            count = count + 1\n",
    "        c.append(wordsMat)\n",
    "\n",
    "    return [c, wordOrder]\n",
    "\n"
   ]
  },
  {
   "cell_type": "code",
   "execution_count": 4,
   "metadata": {
    "collapsed": false
   },
   "outputs": [
    {
     "data": {
      "text/plain": [
       "(3, 3)"
      ]
     },
     "execution_count": 4,
     "metadata": {},
     "output_type": "execute_result"
    }
   ],
   "source": [
    "corpusMatrix = make_word_matrix(docs)\n",
    "corpusMatrix[0][0].shape"
   ]
  },
  {
   "cell_type": "code",
   "execution_count": 8,
   "metadata": {
    "collapsed": false
   },
   "outputs": [
    {
     "data": {
      "text/plain": [
       "[[array([[ 0.,  1.,  0.],\n",
       "         [ 0.,  0.,  1.],\n",
       "         [ 1.,  0.,  0.]]), array([[ 0.,  0.,  1.],\n",
       "         [ 1.,  0.,  0.],\n",
       "         [ 0.,  1.,  0.],\n",
       "         [ 0.,  1.,  0.],\n",
       "         [ 0.,  1.,  0.],\n",
       "         [ 0.,  1.,  0.]]), array([[ 0.,  0.,  1.],\n",
       "         [ 0.,  1.,  0.],\n",
       "         [ 1.,  0.,  0.]]), array([[ 0.,  1.,  0.,  0.,  0.],\n",
       "         [ 0.,  0.,  1.,  0.,  0.],\n",
       "         [ 0.,  0.,  0.,  0.,  1.],\n",
       "         [ 0.,  0.,  0.,  1.,  0.],\n",
       "         [ 1.,  0.,  0.,  0.,  0.]])],\n",
       " [['fox', 'quick', 'brown'],\n",
       "  ['fox', 'jumps', 'brown'],\n",
       "  ['elephant', 'dog', 'lazy'],\n",
       "  ['elephant', 'dog', 'peacock', 'tiger', 'lion']]]"
      ]
     },
     "execution_count": 8,
     "metadata": {},
     "output_type": "execute_result"
    }
   ],
   "source": [
    "corpusMatrix"
   ]
  },
  {
   "cell_type": "markdown",
   "metadata": {
    "collapsed": false
   },
   "source": [
    "**Variational Inference**"
   ]
  },
  {
   "cell_type": "code",
   "execution_count": 5,
   "metadata": {
    "collapsed": false
   },
   "outputs": [],
   "source": [
    "import numpy as np\n",
    "import scipy\n",
    "from scipy import special"
   ]
  },
  {
   "cell_type": "code",
   "execution_count": 44,
   "metadata": {
    "collapsed": false
   },
   "outputs": [],
   "source": [
    "def Estep(k, d, corpusMatrix, tol):    \n",
    "    \n",
    "    #storing the total number of words and the number of unique words\n",
    "    N = corpusMatrix[0][d].shape[0]\n",
    "    V = corpusMatrix[0][d].shape[1]\n",
    "    \n",
    "    #initialize phi and gamma\n",
    "    alpha = np.random.rand(k)\n",
    "    phi = np.full(shape = (N,k), fill_value = 1/k)\n",
    "    beta = np.random.rand(k, V)\n",
    "    beta = beta/np.sum(beta, axis = 0)[np.newaxis, :]\n",
    "    gamma = alpha + N/k\n",
    "    converge = 0 \n",
    "    \n",
    "    \n",
    "    count = 0\n",
    "    \n",
    "    while converge == 0:\n",
    "        #creating a place to store the updated phi\n",
    "        newPhi  = np.full(shape = (N,k), fill_value = 1/k)\n",
    "        for n in range(0, N):\n",
    "            for i in range(0,k):\n",
    "                newPhi[n,i] = (beta[i, list(corpusMatrix[0][d][n,:]).index(1)])*scipy.special.psi(gamma[i])\n",
    "        newPhi = newPhi/np.sum(newPhi, axis = 1)[:, np.newaxis] #normalizing the rows of new phi\n",
    "        newGamma = alpha + np.sum(newPhi) #updating gamma\n",
    "        \n",
    "        #checking for convergence\n",
    "        if np.linalg.norm(newGamma - gamma) + np.linalg.norm(newPhi - phi) < tol:\n",
    "            converge = 1\n",
    "        else:\n",
    "            converge = 0\n",
    "            gamma = newGamma\n",
    "            phi = newPhi\n",
    "            count = count +1\n",
    "    return (newPhi, newGamma)"
   ]
  },
  {
   "cell_type": "code",
   "execution_count": 49,
   "metadata": {
    "collapsed": false
   },
   "outputs": [
    {
     "name": "stdout",
     "output_type": "stream",
     "text": [
      "[[ 0.40277735  0.5761788   0.02104385]\n",
      " [ 0.56060093  0.3454057   0.09399336]\n",
      " [ 0.31682687  0.51244966  0.17072347]]\n",
      "[ 3.23088311  3.83187632  3.62542694]\n"
     ]
    }
   ],
   "source": [
    "phi1, gamma1 = Estep(3, 0, corpusMatrix, 0.0001)\n",
    "print(phi1)\n",
    "print(gamma1)"
   ]
  },
  {
   "cell_type": "code",
   "execution_count": 53,
   "metadata": {
    "collapsed": true
   },
   "outputs": [],
   "source": [
    "def Mstep(k, phi, corpusMatrix):\n",
    "    #Calculate beta#\n",
    "    V = corpusMatrix[0][d].shape[1]\n",
    "    beta = np.zeros(shape = (k,V))\n",
    "    for i in range(0,k):\n",
    "        for n in range(0,V):\n",
    "            beta[i,n] = sum(phi[:,i]*list(corpusMatrix[0][d][n,:]))\n",
    "    #Normalize the columns of beta#\n",
    "    beta = beta/np.sum(beta, axis = 0)[np.newaxis, :]\n",
    "    \n",
    "    \n",
    "    ##Update ALPHA, see Apendix A.2##\n",
    "    \n",
    "    return(beta)\n",
    "\n"
   ]
  },
  {
   "cell_type": "code",
   "execution_count": 54,
   "metadata": {
    "collapsed": false
   },
   "outputs": [
    {
     "data": {
      "text/plain": [
       "array([[ 0.56060093,  0.31682687,  0.40277735],\n",
       "       [ 0.3454057 ,  0.51244966,  0.5761788 ],\n",
       "       [ 0.09399336,  0.17072347,  0.02104385]])"
      ]
     },
     "execution_count": 54,
     "metadata": {},
     "output_type": "execute_result"
    }
   ],
   "source": [
    "Mstep(3, phi1, corpusMatrix)"
   ]
  },
  {
   "cell_type": "code",
   "execution_count": null,
   "metadata": {
    "collapsed": true
   },
   "outputs": [],
   "source": []
  },
  {
   "cell_type": "code",
   "execution_count": null,
   "metadata": {
    "collapsed": true
   },
   "outputs": [],
   "source": [
    "#lengths and number of topics will go here\n",
    "\n",
    "k = 2\n",
    "D = 1\n",
    "tol = 0.1\n",
    "\n",
    "#need to define number of documents and number of topics here, \n",
    "\n",
    "#looping through the number of documents\n",
    "for d in range(0,D): #D is the number of documents\n",
    "    phi, gamma = Estep(k, d, corpusMatrix, tol)"
   ]
  }
 ],
 "metadata": {
  "kernelspec": {
   "display_name": "Python 3",
   "language": "python",
   "name": "python3"
  },
  "language_info": {
   "codemirror_mode": {
    "name": "ipython",
    "version": 3
   },
   "file_extension": ".py",
   "mimetype": "text/x-python",
   "name": "python",
   "nbconvert_exporter": "python",
   "pygments_lexer": "ipython3",
   "version": "3.5.0"
  }
 },
 "nbformat": 4,
 "nbformat_minor": 0
}
